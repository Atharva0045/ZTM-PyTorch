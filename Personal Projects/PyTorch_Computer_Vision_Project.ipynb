{
  "nbformat": 4,
  "nbformat_minor": 0,
  "metadata": {
    "colab": {
      "provenance": []
    },
    "kernelspec": {
      "name": "python3",
      "display_name": "Python 3"
    },
    "language_info": {
      "name": "python"
    }
  },
  "cells": [
    {
      "cell_type": "code",
      "execution_count": 20,
      "metadata": {
        "id": "yd9lVZHvdtXt"
      },
      "outputs": [],
      "source": [
        "# trying to convert images into tensor\n",
        "import torch\n",
        "import torch.nn as nn\n",
        "from PIL import Image\n",
        "from torchvision import datasets, transforms\n",
        "from torch.utils.data import DataLoader"
      ]
    },
    {
      "cell_type": "code",
      "source": [
        "# write a function to convert image into PyTorch Tensor\n",
        "def convert_image(image_path: str) -> torch.tensor:\n",
        "    image = Image.open(image_path)\n",
        "\n",
        "    transform = transforms.Compose([\n",
        "        transforms.Resize((100, 100)),\n",
        "        transforms.ToTensor()\n",
        "    ])\n",
        "\n",
        "    image_tensor = transform(image)\n",
        "\n",
        "    return image_tensor"
      ],
      "metadata": {
        "id": "6tZc7-M7fBgp"
      },
      "execution_count": 21,
      "outputs": []
    }
  ]
}